{
 "cells": [
  {
   "cell_type": "markdown",
   "metadata": {},
   "source": [
    "# Image Retrieval"
   ]
  },
  {
   "cell_type": "markdown",
   "metadata": {},
   "source": [
    "## Imports"
   ]
  },
  {
   "cell_type": "code",
   "execution_count": 5,
   "metadata": {
    "collapsed": false
   },
   "outputs": [],
   "source": [
    "from bs4 import BeautifulSoup\n",
    "import requests\n",
    "import re\n",
    "from urllib.request import urlopen\n",
    "import os"
   ]
  },
  {
   "cell_type": "markdown",
   "metadata": {},
   "source": [
    "# Retrieve images by searching on Bing"
   ]
  },
  {
   "cell_type": "code",
   "execution_count": 18,
   "metadata": {
    "collapsed": false
   },
   "outputs": [],
   "source": [
    "def retrieve_images(query, image_type):\n",
    "    # Execute the image search query\n",
    "    search_url = \"http://www.bing.com/images/search?q={}&qft=+filterui:imagesize-small&FORM=R5IR3\".format(query)\n",
    "    soup = BeautifulSoup(requests.get(search_url).text, \"lxml\")\n",
    "    \n",
    "    # Parse the query result\n",
    "    # This will result in a list of url's pointing to the images\n",
    "    img_urls = [a['src'] for a in soup.find_all(\"img\", {\"src\": re.compile(\"mm.bing.net\")})]\n",
    "    print(\"{} images found\".format(len(img_urls)))\n",
    "              \n",
    "    # Create the folder path\n",
    "    dir_path = os.path.join(\"data\", \"images\", image_type)\n",
    "    if not os.path.exists(dir_path):\n",
    "        os.makedirs(dir_path)\n",
    "        \n",
    "    # Count the current number of images in the directory\n",
    "    n_images = len(os.listdir(dir_path))\n",
    "    \n",
    "    # Retrieve and save the image data\n",
    "    for i, img_url in enumerate(img_urls):\n",
    "        print(\"Downloading '{}' image number {}\".format(image_type, i+1))\n",
    "        raw_img = urlopen(img_url).read()\n",
    "        file_path = os.path.join(dir_path, \"{}{}.jpeg\".format(image_type, str(n_images+i)))\n",
    "        with open(file_path, 'wb') as f:\n",
    "            f.write(raw_img)"
   ]
  },
  {
   "cell_type": "markdown",
   "metadata": {},
   "source": [
    "# Download some images"
   ]
  },
  {
   "cell_type": "markdown",
   "metadata": {},
   "source": [
    "Download some images of dogs"
   ]
  },
  {
   "cell_type": "code",
   "execution_count": 17,
   "metadata": {
    "collapsed": false,
    "scrolled": false
   },
   "outputs": [
    {
     "name": "stdout",
     "output_type": "stream",
     "text": [
      "28 images found\n",
      "Downloading 'dog' image number 1\n",
      "Downloading 'dog' image number 2\n",
      "Downloading 'dog' image number 3\n",
      "Downloading 'dog' image number 4\n",
      "Downloading 'dog' image number 5\n",
      "Downloading 'dog' image number 6\n",
      "Downloading 'dog' image number 7\n",
      "Downloading 'dog' image number 8\n",
      "Downloading 'dog' image number 9\n",
      "Downloading 'dog' image number 10\n",
      "Downloading 'dog' image number 11\n",
      "Downloading 'dog' image number 12\n",
      "Downloading 'dog' image number 13\n",
      "Downloading 'dog' image number 14\n",
      "Downloading 'dog' image number 15\n",
      "Downloading 'dog' image number 16\n",
      "Downloading 'dog' image number 17\n",
      "Downloading 'dog' image number 18\n",
      "Downloading 'dog' image number 19\n",
      "Downloading 'dog' image number 20\n",
      "Downloading 'dog' image number 21\n",
      "Downloading 'dog' image number 22\n",
      "Downloading 'dog' image number 23\n",
      "Downloading 'dog' image number 24\n",
      "Downloading 'dog' image number 25\n",
      "Downloading 'dog' image number 26\n",
      "Downloading 'dog' image number 27\n",
      "Downloading 'dog' image number 28\n"
     ]
    }
   ],
   "source": [
    "retrieve_images(\"dog\", \"dog\")"
   ]
  },
  {
   "cell_type": "markdown",
   "metadata": {},
   "source": [
    "Download some images of cats"
   ]
  },
  {
   "cell_type": "code",
   "execution_count": 19,
   "metadata": {
    "collapsed": false
   },
   "outputs": [
    {
     "name": "stdout",
     "output_type": "stream",
     "text": [
      "28 images found\n",
      "Downloading 'cat' image number 1\n",
      "Downloading 'cat' image number 2\n",
      "Downloading 'cat' image number 3\n",
      "Downloading 'cat' image number 4\n",
      "Downloading 'cat' image number 5\n",
      "Downloading 'cat' image number 6\n",
      "Downloading 'cat' image number 7\n",
      "Downloading 'cat' image number 8\n",
      "Downloading 'cat' image number 9\n",
      "Downloading 'cat' image number 10\n",
      "Downloading 'cat' image number 11\n",
      "Downloading 'cat' image number 12\n",
      "Downloading 'cat' image number 13\n",
      "Downloading 'cat' image number 14\n",
      "Downloading 'cat' image number 15\n",
      "Downloading 'cat' image number 16\n",
      "Downloading 'cat' image number 17\n",
      "Downloading 'cat' image number 18\n",
      "Downloading 'cat' image number 19\n",
      "Downloading 'cat' image number 20\n",
      "Downloading 'cat' image number 21\n",
      "Downloading 'cat' image number 22\n",
      "Downloading 'cat' image number 23\n",
      "Downloading 'cat' image number 24\n",
      "Downloading 'cat' image number 25\n",
      "Downloading 'cat' image number 26\n",
      "Downloading 'cat' image number 27\n",
      "Downloading 'cat' image number 28\n"
     ]
    }
   ],
   "source": [
    "retrieve_images(\"cat\", \"cat\")"
   ]
  },
  {
   "cell_type": "markdown",
   "metadata": {},
   "source": [
    "# More about images in Python"
   ]
  },
  {
   "cell_type": "markdown",
   "metadata": {},
   "source": [
    "The link bellow contains much of the same information with regards to retrieval of images, as well as information about how to convert image data to something useful for Machine Learning\n",
    "\n",
    "http://blog.yhat.com/posts/image-classification-in-Python.html"
   ]
  }
 ],
 "metadata": {
  "anaconda-cloud": {},
  "kernelspec": {
   "display_name": "Python [conda root]",
   "language": "python",
   "name": "conda-root-py"
  },
  "language_info": {
   "codemirror_mode": {
    "name": "ipython",
    "version": 3
   },
   "file_extension": ".py",
   "mimetype": "text/x-python",
   "name": "python",
   "nbconvert_exporter": "python",
   "pygments_lexer": "ipython3",
   "version": "3.5.2"
  }
 },
 "nbformat": 4,
 "nbformat_minor": 2
}
