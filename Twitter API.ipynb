{
 "cells": [
  {
   "cell_type": "markdown",
   "metadata": {},
   "source": [
    "# Twitter API"
   ]
  },
  {
   "cell_type": "markdown",
   "metadata": {},
   "source": [
    "- First, register a twitter app [here](https://apps.twitter.com/)\n",
    "- Then, install the Twitter API:\n",
    "\n",
    "        pip install tweepy"
   ]
  },
  {
   "cell_type": "markdown",
   "metadata": {},
   "source": [
    "# Some imports"
   ]
  },
  {
   "cell_type": "code",
   "execution_count": 1,
   "metadata": {
    "collapsed": true
   },
   "outputs": [],
   "source": [
    "import tweepy\n",
    "import csv\n",
    "import os\n",
    "import pandas as pd\n",
    "import qgrid"
   ]
  },
  {
   "cell_type": "markdown",
   "metadata": {},
   "source": [
    "# Defining the access keys\n",
    "\n",
    "Once you have registered your app, go to the tab called \"Keys and Access Tokens\""
   ]
  },
  {
   "cell_type": "markdown",
   "metadata": {},
   "source": [
    "## Consumer Keys\n",
    "\n",
    "The consumer keys can be found under \"Application Settings\""
   ]
  },
  {
   "cell_type": "code",
   "execution_count": 2,
   "metadata": {
    "collapsed": true
   },
   "outputs": [],
   "source": [
    "CONSUMER_KEY = 'qtCt4uI2HJvbi2zixyDfGYNPu'\n",
    "\n",
    "with open(\"resources/keys/twitter_consumer_secret.txt\") as f:\n",
    "    CONSUMER_SECRET = f.read().strip()"
   ]
  },
  {
   "cell_type": "markdown",
   "metadata": {},
   "source": [
    "## Access Keys"
   ]
  },
  {
   "cell_type": "markdown",
   "metadata": {},
   "source": [
    "The access keys can be found under \"Your Access Token\". If you haven't created one yet, create one now."
   ]
  },
  {
   "cell_type": "code",
   "execution_count": 3,
   "metadata": {
    "collapsed": true
   },
   "outputs": [],
   "source": [
    "ACCESS_TOKEN = '799883665346035714-EUUUyKVWJv50oKyznffywr17kIt55JA'\n",
    "\n",
    "with open(\"resources/keys/twitter_access_secret.txt\") as f:\n",
    "    ACCESS_SECRET = f.read().strip()"
   ]
  },
  {
   "cell_type": "markdown",
   "metadata": {},
   "source": [
    "# Getting access"
   ]
  },
  {
   "cell_type": "code",
   "execution_count": 4,
   "metadata": {
    "collapsed": true
   },
   "outputs": [],
   "source": [
    "auth = tweepy.OAuthHandler(CONSUMER_KEY, CONSUMER_SECRET)\n",
    "auth.set_access_token(ACCESS_TOKEN, ACCESS_SECRET)\n",
    "\n",
    "api = tweepy.API(auth)"
   ]
  },
  {
   "cell_type": "markdown",
   "metadata": {},
   "source": [
    "# Example - Searching for Tweets near Sibiu"
   ]
  },
  {
   "cell_type": "markdown",
   "metadata": {},
   "source": [
    "- The different search parameters can be found [here](https://dev.twitter.com/rest/reference/get/search/tweets)\n",
    "- The different values in the returned object can be found [here](https://dev.twitter.com/overview/api/tweets)"
   ]
  },
  {
   "cell_type": "code",
   "execution_count": null,
   "metadata": {
    "collapsed": false
   },
   "outputs": [],
   "source": [
    "query = \"*\"\n",
    "geocode= \"45.789486,24.149708,10km\" # Sibiu Center\n",
    "\n",
    "for status in tweepy.Cursor(api.search, q=query, geocode=geocode).items(10):\n",
    "    print(status.text)"
   ]
  },
  {
   "cell_type": "markdown",
   "metadata": {},
   "source": [
    "# Example - Saving Tweets as a CSV"
   ]
  },
  {
   "cell_type": "code",
   "execution_count": 116,
   "metadata": {
    "collapsed": false
   },
   "outputs": [],
   "source": [
    "# Fetch the data from twitter\n",
    "data = [[\"user_name\", \"created_at\", \"language\", \"favorite_count\", \"retweet_count\", \"text\"]]\n",
    "for status in tweepy.Cursor(api.search, q=query, geocode=geocode).items(100):\n",
    "    data.append([])\n",
    "    data_row = data[-1]\n",
    "    data_row.append(status.user.name)\n",
    "    data_row.append(str(status.created_at))\n",
    "    data_row.append(status.lang)\n",
    "    data_row.append(status.favorite_count)\n",
    "    data_row.append(status.retweet_count)\n",
    "    data_row.append(status.text.replace('\"', ''))\n",
    "\n",
    "# Create the data folder if it does not already exist\n",
    "if not os.path.exists(\"data\"):\n",
    "    os.makedirs(\"data\")\n",
    "\n",
    "# Save the data\n",
    "with open(\"data/twitter_data.csv\", 'w', encoding='utf-8') as f:\n",
    "    csv_writer = csv.writer(f, delimiter=\",\", quotechar='\"')\n",
    "    for row in data:\n",
    "        csv_writer.writerow(row)"
   ]
  },
  {
   "cell_type": "markdown",
   "metadata": {},
   "source": [
    "# Loading the data"
   ]
  },
  {
   "cell_type": "code",
   "execution_count": 117,
   "metadata": {
    "collapsed": false
   },
   "outputs": [],
   "source": [
    "df = pd.read_csv(\"data/twitter_data.csv\")\n",
    "qgrid.show_grid(df)"
   ]
  }
 ],
 "metadata": {
  "anaconda-cloud": {},
  "kernelspec": {
   "display_name": "Python [conda root]",
   "language": "python",
   "name": "conda-root-py"
  },
  "language_info": {
   "codemirror_mode": {
    "name": "ipython",
    "version": 3
   },
   "file_extension": ".py",
   "mimetype": "text/x-python",
   "name": "python",
   "nbconvert_exporter": "python",
   "pygments_lexer": "ipython3",
   "version": "3.5.2"
  }
 },
 "nbformat": 4,
 "nbformat_minor": 2
}
